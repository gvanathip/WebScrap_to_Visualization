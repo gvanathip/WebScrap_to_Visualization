{
  "nbformat": 4,
  "nbformat_minor": 0,
  "metadata": {
    "colab": {
      "private_outputs": true,
      "provenance": [],
      "authorship_tag": "ABX9TyPQ+pVWwBI9Qp9Erb7HhZFI",
      "include_colab_link": true
    },
    "kernelspec": {
      "name": "python3",
      "display_name": "Python 3"
    },
    "language_info": {
      "name": "python"
    }
  },
  "cells": [
    {
      "cell_type": "markdown",
      "metadata": {
        "id": "view-in-github",
        "colab_type": "text"
      },
      "source": [
        "<a href=\"https://colab.research.google.com/github/gvanathip/WebScrap_to_Visualization/blob/main/PropertyPrice_Webscrap_BarChartRaceAnimation.ipynb\" target=\"_parent\"><img src=\"https://colab.research.google.com/assets/colab-badge.svg\" alt=\"Open In Colab\"/></a>"
      ]
    },
    {
      "cell_type": "code",
      "execution_count": null,
      "metadata": {
        "id": "lDnzfZ7MluH5"
      },
      "outputs": [],
      "source": [
        "!pip install selenium\n",
        "!apt-get update # to update ubuntu to correctly run apt install\n",
        "!apt install chromium-chromedriver\n",
        "!cp /usr/lib/chromium-browser/chromedriver /usr/bin\n",
        "import sys\n",
        "sys.path.insert(0,'/usr/lib/chromium-browser/chromedriver')"
      ]
    },
    {
      "cell_type": "code",
      "source": [
        "from selenium import webdriver\n",
        "chrome_options = webdriver.ChromeOptions()\n",
        "chrome_options.add_argument('--headless')\n",
        "chrome_options.add_argument('--no-sandbox')\n",
        "chrome_options.add_argument('--disable-dev-shm-usage')\n",
        "driver = webdriver.Chrome('chromedriver',chrome_options=chrome_options)"
      ],
      "metadata": {
        "id": "GqXgtvvLmL1e"
      },
      "execution_count": null,
      "outputs": []
    },
    {
      "cell_type": "code",
      "source": [
        "import pandas as pd"
      ],
      "metadata": {
        "id": "om4H0QbNymvx"
      },
      "execution_count": null,
      "outputs": []
    },
    {
      "cell_type": "code",
      "source": [
        "import time"
      ],
      "metadata": {
        "id": "kJvLOsvOnm62"
      },
      "execution_count": null,
      "outputs": []
    },
    {
      "cell_type": "code",
      "source": [
        "driver.get(\"https://www.numbeo.com/property-investment/rankings_by_country.jsp\")"
      ],
      "metadata": {
        "id": "DxiA7Q_smaTE"
      },
      "execution_count": null,
      "outputs": []
    },
    {
      "cell_type": "code",
      "source": [
        "p = driver.find_element(\"xpath\",'//*[@id=\"page_container\"]/div[2]/div[1]/form[1]/select').get_attribute(\"innerText\")\n",
        "time.sleep(5)\n",
        "p"
      ],
      "metadata": {
        "id": "Lkg3LS1znqXy"
      },
      "execution_count": null,
      "outputs": []
    },
    {
      "cell_type": "code",
      "source": [
        "y = []\n",
        "for i in p.split(\"\\n\"):\n",
        "  if i.isdigit():\n",
        "    print(i)\n",
        "    y.append(i)"
      ],
      "metadata": {
        "id": "UaQKOSlIvBAb"
      },
      "execution_count": null,
      "outputs": []
    },
    {
      "cell_type": "code",
      "source": [
        "df = pd.DataFrame()\n",
        "for i in y:\n",
        "  print(\"https://www.numbeo.com/property-investment/rankings_by_country.jsp?title=\"+i)\n",
        "  driver.get(\"https://www.numbeo.com/property-investment/rankings_by_country.jsp?title=\"+i)\n",
        "  data = driver.find_element(\"xpath\",'//*[@id=\"t2\"]').get_attribute(\"innerText\")\n",
        "  time.sleep(5)\n",
        "  col = data.split(\"\\n\\n\")[0].split(\"\\n\\t\\n\")\n",
        "  value = []\n",
        "  for j in data.split(\"\\n\\n\")[1].split(\"\\n\"):\n",
        "    # print(j.split(\"\\t\"))\n",
        "    value.append(j.split(\"\\t\"))\n",
        "  df_new = pd.DataFrame(columns=col, data=value)\n",
        "  df_new[\"year\"] = i\n",
        "  df = df.append(df_new)\n",
        "  print(df)"
      ],
      "metadata": {
        "id": "Irj2rb6HvjZC"
      },
      "execution_count": null,
      "outputs": []
    },
    {
      "cell_type": "code",
      "source": [
        "df"
      ],
      "metadata": {
        "id": "noe36yaCxZ4i"
      },
      "execution_count": null,
      "outputs": []
    },
    {
      "cell_type": "code",
      "source": [
        "Property_Price_to_Income = df[[\"Country\",\"year\",\"Price To Income Ratio\"]]"
      ],
      "metadata": {
        "id": "lkq7SLmoyBRS"
      },
      "execution_count": null,
      "outputs": []
    },
    {
      "cell_type": "code",
      "source": [
        "Property_Price_to_Income.year = pd.to_datetime(Property_Price_to_Income.year, format='%Y')"
      ],
      "metadata": {
        "id": "Z5G5yA6v_029"
      },
      "execution_count": null,
      "outputs": []
    },
    {
      "cell_type": "code",
      "source": [
        "Property_Price_to_Income"
      ],
      "metadata": {
        "id": "vk3Jfz0bxey_"
      },
      "execution_count": null,
      "outputs": []
    },
    {
      "cell_type": "code",
      "source": [
        "Property_Price_to_Income = Property_Price_to_Income.pivot(index='year', columns='Country', values='Price To Income Ratio')"
      ],
      "metadata": {
        "id": "rOF7Rh2Xn9M6"
      },
      "execution_count": null,
      "outputs": []
    },
    {
      "cell_type": "code",
      "source": [
        "Property_Price_to_Income"
      ],
      "metadata": {
        "id": "K_zDdwmZw_TJ"
      },
      "execution_count": null,
      "outputs": []
    },
    {
      "cell_type": "code",
      "source": [
        "pip install bar_chart_race"
      ],
      "metadata": {
        "id": "WtvYJWTR3tLm"
      },
      "execution_count": null,
      "outputs": []
    },
    {
      "cell_type": "code",
      "source": [
        "Property_Price_to_Income = Property_Price_to_Income.fillna(0)"
      ],
      "metadata": {
        "id": "7s87li8f4tpx"
      },
      "execution_count": null,
      "outputs": []
    },
    {
      "cell_type": "code",
      "source": [
        "for col in Property_Price_to_Income:\n",
        "    Property_Price_to_Income[col] = pd.to_numeric(Property_Price_to_Income[col], errors='coerce')"
      ],
      "metadata": {
        "id": "p0DXXyzS4YwB"
      },
      "execution_count": null,
      "outputs": []
    },
    {
      "cell_type": "code",
      "source": [
        "Property_Price_to_Income"
      ],
      "metadata": {
        "id": "YsMcQ2v74jTF"
      },
      "execution_count": null,
      "outputs": []
    },
    {
      "cell_type": "code",
      "source": [
        "import numpy as np\n",
        "from matplotlib import pyplot as plt\n",
        "import seaborn as sns\n",
        "from matplotlib.animation import FuncAnimation"
      ],
      "metadata": {
        "id": "zzE2W9ra5x61"
      },
      "execution_count": null,
      "outputs": []
    },
    {
      "cell_type": "code",
      "source": [
        "import bar_chart_race as bcr"
      ],
      "metadata": {
        "id": "6HHZaUxm3qu9"
      },
      "execution_count": null,
      "outputs": []
    },
    {
      "cell_type": "code",
      "source": [
        "plt.rcParams.update({# Use mathtext, not LaTeX\n",
        "                            'text.usetex': False,\n",
        "                            # Use the Computer modern font\n",
        "                            'font.family': 'serif',\n",
        "                            'font.serif': 'cmr10',\n",
        "                            'mathtext.fontset': 'cm',\n",
        "                            # Use ASCII minus\n",
        "                            'axes.unicode_minus': False,\n",
        "                            })"
      ],
      "metadata": {
        "id": "LPdBVA7Y89NG"
      },
      "execution_count": null,
      "outputs": []
    },
    {
      "cell_type": "code",
      "source": [
        "df2 = Property_Price_to_Income.reset_index()\n",
        "df2.index = df2.index * 12\n",
        "last_idx = df2.index[-1] + 1\n",
        "df_expanded = df2.reindex(range(last_idx))"
      ],
      "metadata": {
        "id": "8TPLr8KmBhOK"
      },
      "execution_count": null,
      "outputs": []
    },
    {
      "cell_type": "code",
      "source": [
        "df_expanded['year'] = df_expanded['year'].fillna(method='ffill')\n",
        "df_expanded = df_expanded.set_index('year')\n",
        "df_expanded = df_expanded.interpolate()"
      ],
      "metadata": {
        "id": "mEKqECoBByRo"
      },
      "execution_count": null,
      "outputs": []
    },
    {
      "cell_type": "code",
      "source": [
        "df_expanded "
      ],
      "metadata": {
        "id": "blRGasVqCbit"
      },
      "execution_count": null,
      "outputs": []
    },
    {
      "cell_type": "code",
      "source": [
        "bcr.bar_chart_race(df = df_expanded, \n",
        "filename = None, \n",
        "filter_column_colors = True, \n",
        "cmap = \"prism\", \n",
        "title = \"Property Price to Income\",\n",
        "n_bars=20,\n",
        "steps_per_period=5,\n",
        "interpolate_period=False,\n",
        "sort=\"desc\",\n",
        "shared_fontdict={'family' : 'Helvetica', 'color' : '.1'},\n",
        "scale='linear',)"
      ],
      "metadata": {
        "id": "MiikLgCpyyqT"
      },
      "execution_count": null,
      "outputs": []
    },
    {
      "cell_type": "code",
      "source": [],
      "metadata": {
        "id": "bAxdOitt9ZZz"
      },
      "execution_count": null,
      "outputs": []
    }
  ]
}